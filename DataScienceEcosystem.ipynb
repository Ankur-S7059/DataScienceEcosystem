{
 "cells": [
  {
   "cell_type": "markdown",
   "id": "e4fc1997-03bc-4e71-bd93-73dcf26c35a1",
   "metadata": {},
   "source": [
    "Data Science Tools and Ecosystem"
   ]
  },
  {
   "cell_type": "code",
   "execution_count": null,
   "id": "dcb1bb7e-dc3a-47b7-8adc-2632fb647054",
   "metadata": {},
   "outputs": [],
   "source": [
    "In this notebook, Data Science Tools and Ecosystem are summarized."
   ]
  },
  {
   "cell_type": "code",
   "execution_count": null,
   "id": "e5305f04-7547-47d9-9ee2-9d85e8375175",
   "metadata": {},
   "outputs": [],
   "source": [
    "Some of the popular languages that Data Scientists use are:\n",
    "- Python\n",
    "- R\n",
    "- SQL\n",
    "- Julia\n",
    "- Scala\n",
    "- Java\n",
    "# Data Science Languages"
   ]
  },
  {
   "cell_type": "code",
   "execution_count": null,
   "id": "17e19b7c-5929-4b62-a769-5a2479ab813a",
   "metadata": {},
   "outputs": [],
   "source": [
    "Some of the commonly used libraries used by Data Scientists include:\n",
    "- Pandas\n",
    "- NumPy\n",
    "- Matplotlib\n",
    "- Seaborn\n",
    "- Scikit-learn\n",
    "- TensorFlow\n",
    "- Keras\n",
    "- PyTorch\n",
    "# Data Science Libraries"
   ]
  },
  {
   "cell_type": "code",
   "execution_count": null,
   "id": "b15386df-56cd-4c2f-9652-fa0319de4f5b",
   "metadata": {},
   "outputs": [],
   "source": [
    " Data Science Tools\n",
    "| Tool                | Description                                    |\n",
    "|---------------------|------------------------------------------------|\n",
    "| Jupyter Notebook    | Interactive computing environment              |\n",
    "| RStudio             | Integrated development for R                   |\n",
    "| Visual Studio Code  | Open-source code editor for various languages  |\n",
    "| Apache Zeppelin     | Web-based notebook for data analytics          |\n",
    "| Spyder              | Python IDE for data science                    |\n",
    "| Google Colab        | Cloud-based Jupyter environment                |\n"
   ]
  },
  {
   "cell_type": "code",
   "execution_count": null,
   "id": "60cea6b4-2fe2-4e51-8624-17d6e79c9dec",
   "metadata": {},
   "outputs": [],
   "source": [
    "Below are a few examples of evaluating arithmetic expressions in Python\n",
    "- Addition: `5 + 3`\n",
    "- Multiplication: `4 * 2`\n",
    "- Division: `10 / 2`\n"
   ]
  },
  {
   "cell_type": "code",
   "execution_count": 2,
   "id": "f153d97f-23e3-40ae-b474-173cc8c70b33",
   "metadata": {},
   "outputs": [
    {
     "data": {
      "text/plain": [
       "17"
      ]
     },
     "execution_count": 2,
     "metadata": {},
     "output_type": "execute_result"
    }
   ],
   "source": [
    "(3*4)+5"
   ]
  },
  {
   "cell_type": "markdown",
   "id": "2665486b-b641-4008-8856-75445f24c24c",
   "metadata": {},
   "source": [
    "# Code cell Converting 200 minutes to hours\n",
    "minutes = 200\n",
    "hours = minutes / 60\n",
    "print(f\"{minutes} minutes is equal to {hours} hours\")\n"
   ]
  },
  {
   "cell_type": "code",
   "execution_count": null,
   "id": "f2314315-0e02-4a42-8c3c-a3508d982653",
   "metadata": {},
   "outputs": [],
   "source": [
    "## Objectives\n",
    "- Understand data science languages and libraries.\n",
    "- Use basic arithmetic expressions.\n",
    "- Convert time units from minutes to hours.\n",
    "- Demonstrate the use of data science tools.\n"
   ]
  },
  {
   "cell_type": "code",
   "execution_count": null,
   "id": "f208786d-5f16-4190-bbca-0971680f8c48",
   "metadata": {},
   "outputs": [],
   "source": [
    "Author\n",
    "Ankur Saha"
   ]
  },
  {
   "cell_type": "code",
   "execution_count": null,
   "id": "24dc5e54-8712-427e-be80-6ce35cf88eb4",
   "metadata": {},
   "outputs": [],
   "source": []
  },
  {
   "cell_type": "code",
   "execution_count": null,
   "id": "822b01cb-f1fe-47f9-a85a-6545b2128bd7",
   "metadata": {},
   "outputs": [],
   "source": []
  }
 ],
 "metadata": {
  "kernelspec": {
   "display_name": "Python 3 (ipykernel)",
   "language": "python",
   "name": "python3"
  },
  "language_info": {
   "codemirror_mode": {
    "name": "ipython",
    "version": 3
   },
   "file_extension": ".py",
   "mimetype": "text/x-python",
   "name": "python",
   "nbconvert_exporter": "python",
   "pygments_lexer": "ipython3",
   "version": "3.11.6"
  }
 },
 "nbformat": 4,
 "nbformat_minor": 5
}
